{
  "nbformat": 4,
  "nbformat_minor": 0,
  "metadata": {
    "colab": {
      "provenance": []
    },
    "kernelspec": {
      "name": "python3",
      "display_name": "Python 3"
    },
    "language_info": {
      "name": "python"
    }
  },
  "cells": [
    {
      "cell_type": "markdown",
      "source": [
        "Массив"
      ],
      "metadata": {
        "id": "jxN4-pmNY3V-"
      }
    },
    {
      "cell_type": "code",
      "source": [
        "import numpy as np\n",
        "arr = np.array([1, 2, 3, 4, 5])\n",
        "print(arr)\n",
        "print(arr + 2)\n",
        "arr2 = np.array([2, 3, 4, 5, 6])\n",
        "new_arr = arr + arr2\n",
        "print(np.mean(new_arr))\n"
      ],
      "metadata": {
        "colab": {
          "base_uri": "https://localhost:8080/"
        },
        "id": "-gIRkJmZawv1",
        "outputId": "92f6c9cf-eee2-4d63-da5d-1c0993cc1dda"
      },
      "execution_count": 2,
      "outputs": [
        {
          "output_type": "stream",
          "name": "stdout",
          "text": [
            "[1 2 3 4 5]\n",
            "[3 4 5 6 7]\n",
            "7.0\n"
          ]
        }
      ]
    },
    {
      "cell_type": "markdown",
      "source": [
        "Множества"
      ],
      "metadata": {
        "id": "GAS6vMCGb2zT"
      }
    },
    {
      "cell_type": "code",
      "source": [
        "my_set = {1, 2, 3, 4, 5}\n",
        "new_set = {2, 3, 4, 5, 6, 7}\n",
        "print(my_set.union(new_set))\n",
        "print(my_set.intersection(new_set))\n",
        "print(my_set.difference(new_set))"
      ],
      "metadata": {
        "colab": {
          "base_uri": "https://localhost:8080/"
        },
        "id": "F1Tt3cDdbvoM",
        "outputId": "507ff0f1-8f3b-4c68-f27e-8266b1cb9dea"
      },
      "execution_count": 5,
      "outputs": [
        {
          "output_type": "stream",
          "name": "stdout",
          "text": [
            "{1, 2, 3, 4, 5, 6, 7}\n",
            "{2, 3, 4, 5}\n",
            "{1}\n"
          ]
        }
      ]
    },
    {
      "cell_type": "markdown",
      "source": [
        "Стэк"
      ],
      "metadata": {
        "id": "aFwAsncvceB1"
      }
    },
    {
      "cell_type": "code",
      "source": [
        "stack = []\n",
        "stack.append('a')\n",
        "stack.append('b')\n",
        "stack.append('c')\n",
        "print(stack)\n",
        "stack.pop()\n",
        "print(stack)\n",
        "\n",
        "def peak(stack):\n",
        "  return(stack[-1])\n",
        "\n",
        "def empty(stack):\n",
        "  return(len(stack) == 0)\n",
        "\n",
        "print(peak(stack))\n",
        "print(empty(stack))"
      ],
      "metadata": {
        "colab": {
          "base_uri": "https://localhost:8080/"
        },
        "id": "uVttO26Zch5P",
        "outputId": "45316b84-6d18-45b7-e7f3-c5ab8092609f"
      },
      "execution_count": 7,
      "outputs": [
        {
          "output_type": "stream",
          "name": "stdout",
          "text": [
            "['a', 'b', 'c']\n",
            "['a', 'b']\n",
            "b\n",
            "False\n"
          ]
        }
      ]
    },
    {
      "cell_type": "markdown",
      "source": [
        "Очередь"
      ],
      "metadata": {
        "id": "c4tNhAutesuw"
      }
    },
    {
      "cell_type": "code",
      "source": [
        "from queue import Queue\n",
        "\n",
        "q = Queue(maxsize=3)\n",
        "q.put('a')\n",
        "q.put('b')\n",
        "print(q.full())\n",
        "q.put('c')\n",
        "print(q.full())\n",
        "\n",
        "\n",
        "print(q.queue)\n",
        "first = q.get()\n",
        "print(q.queue)\n",
        "print(first)\n",
        "print(q.empty())"
      ],
      "metadata": {
        "colab": {
          "base_uri": "https://localhost:8080/"
        },
        "id": "aV9hiTFuevE9",
        "outputId": "301988b5-b7cb-4ae5-c92b-5f9219162f03"
      },
      "execution_count": 11,
      "outputs": [
        {
          "output_type": "stream",
          "name": "stdout",
          "text": [
            "False\n",
            "True\n",
            "deque(['a', 'b', 'c'])\n",
            "deque(['b', 'c'])\n",
            "a\n",
            "False\n"
          ]
        }
      ]
    },
    {
      "cell_type": "code",
      "source": [
        "from collections import deque\n",
        "\n",
        "d = deque()\n",
        "\n",
        "d.append(4)\n",
        "d.appendleft(-3)\n",
        "\n",
        "print(d)\n",
        "\n",
        "a = d.pop()\n",
        "b = d.popleft()\n",
        "print(a)\n",
        "print(b)"
      ],
      "metadata": {
        "colab": {
          "base_uri": "https://localhost:8080/"
        },
        "id": "jnpTtucEgUd3",
        "outputId": "893bed80-299a-4d34-eeaf-e431b8296ef8"
      },
      "execution_count": 15,
      "outputs": [
        {
          "output_type": "stream",
          "name": "stdout",
          "text": [
            "deque([-3, 4])\n",
            "4\n",
            "-3\n"
          ]
        }
      ]
    },
    {
      "cell_type": "code",
      "source": [
        "d = deque()\n",
        "d.extend([34, 43, 55])\n",
        "d.extendleft([-23, -32, -44, -23])\n",
        "print(d)\n",
        "d.rotate(2)\n",
        "print(d)\n",
        "d.rotate(-2)\n",
        "print(d)\n",
        "print(d.count(-23))"
      ],
      "metadata": {
        "colab": {
          "base_uri": "https://localhost:8080/"
        },
        "id": "48FdVZKRg80O",
        "outputId": "108e13c9-84fe-41d7-a4fc-9f7fab2e2667"
      },
      "execution_count": 26,
      "outputs": [
        {
          "output_type": "stream",
          "name": "stdout",
          "text": [
            "deque([-23, -44, -32, -23, 34, 43, 55])\n",
            "deque([43, 55, -23, -44, -32, -23, 34])\n",
            "deque([-23, -44, -32, -23, 34, 43, 55])\n",
            "2\n"
          ]
        }
      ]
    },
    {
      "cell_type": "markdown",
      "source": [
        "Связанные списки | Linked List"
      ],
      "metadata": {
        "id": "0HDIJvAAn-lN"
      }
    },
    {
      "cell_type": "code",
      "source": [
        "class Node:\n",
        "  def __init__(self, data = None):\n",
        "    self.data = data\n",
        "    self.next = None\n",
        "\n",
        "class LinkedList:\n",
        "  def __init__(self) -> None:\n",
        "    self.head = None\n",
        "\n",
        "  def insert_in_end(self, data):\n",
        "    if not self.head:\n",
        "      self.head = Node(data)\n",
        "    else:\n",
        "      current = self.head\n",
        "      while current.next:\n",
        "        current = current.next\n",
        "      current.next = Node(data)\n",
        "\n",
        "  def insert_in_beginning(self, data):\n",
        "    new_node = Node(data)\n",
        "    new_node.next = self.head\n",
        "    self.head = new_node\n",
        "\n",
        "  def insert_after(self, prev_node: Node, data):\n",
        "    if prev_node is None:\n",
        "      return\n",
        "    new_node = Node(data)\n",
        "    new_node.next = prev_node.next\n",
        "    prev_node.next = new_node\n",
        "\n",
        "  def search(self, data):\n",
        "    current = self.head\n",
        "    while current:\n",
        "      if current.data == data:\n",
        "        return current\n",
        "      current = current.next\n",
        "    return None\n",
        "\n",
        "  def delete(self, data):\n",
        "    current = self.head\n",
        "    if current and current.data == data:\n",
        "      self.head = current.next\n",
        "      current = None\n",
        "    previous = None\n",
        "    while current and current.data != data:\n",
        "      previous = current\n",
        "      current = current.next\n",
        "    if current is None:\n",
        "      return\n",
        "    previous.next = current.next\n",
        "    current = None\n",
        "\n",
        "  def print_list(self):\n",
        "    current = self.head\n",
        "    while current:\n",
        "      print(current.data, end=' -> ')\n",
        "      current = current.next\n",
        "    print('')\n",
        "\n",
        "llist = LinkedList()\n",
        "\n",
        "llist.insert_in_beginning(5)\n",
        "llist.print_list()\n",
        "llist.insert_in_beginning(14)\n",
        "llist.print_list()\n",
        "llist.insert_in_beginning(53)\n",
        "llist.print_list()\n",
        "llist.insert_in_beginning(21)\n",
        "llist.print_list()\n",
        "\n",
        "llist.insert_in_end(10)\n",
        "llist.print_list()\n",
        "llist.insert_in_end(20)\n",
        "llist.print_list()\n",
        "\n",
        "llist.delete(5)\n",
        "llist.print_list()\n",
        "print(llist.search(10).data)\n",
        "print(llist.search(5))\n",
        ""
      ],
      "metadata": {
        "colab": {
          "base_uri": "https://localhost:8080/"
        },
        "id": "9B46PAgzn3VR",
        "outputId": "383f22dd-4521-4781-d517-42b94e383faa"
      },
      "execution_count": 32,
      "outputs": [
        {
          "output_type": "stream",
          "name": "stdout",
          "text": [
            "5 -> \n",
            "14 -> 5 -> \n",
            "53 -> 14 -> 5 -> \n",
            "21 -> 53 -> 14 -> 5 -> \n",
            "21 -> 53 -> 14 -> 5 -> 10 -> \n",
            "21 -> 53 -> 14 -> 5 -> 10 -> 20 -> \n",
            "21 -> 53 -> 14 -> 10 -> 20 -> \n",
            "10\n",
            "None\n"
          ]
        }
      ]
    },
    {
      "cell_type": "markdown",
      "source": [
        "Дву-связные списки"
      ],
      "metadata": {
        "id": "L_U9SiDfpVky"
      }
    },
    {
      "cell_type": "code",
      "source": [
        "class Node:\n",
        "  def __init__(self, data = None):\n",
        "    self.data = data\n",
        "    self.next = None\n",
        "    self.prev = None\n",
        "\n",
        "class DoublyLinkedList:\n",
        "  def __init__(self) -> None:\n",
        "    self.head = None\n",
        "    self.tail = None\n",
        "\n",
        "  # add element to the beggining of list\n",
        "  def push(self, data):\n",
        "    new_node = Node(data)\n",
        "    new_node.next = self.head\n",
        "    if self.head:\n",
        "      self.head.prev = new_node\n",
        "    else:\n",
        "      self.tail = new_node\n",
        "    self.head = new_node\n",
        "\n",
        "  def insert_after(self, prev_node: Node, data):\n",
        "    if not prev_node:\n",
        "      return\n",
        "    new_node = Node(data)\n",
        "    new_node.next = prev_node.next\n",
        "    new_node.prev = prev_node\n",
        "    prev_node.next = new_node\n",
        "    if new_node.next:\n",
        "      new_node.next.prev = new_node\n",
        "    else:\n",
        "      self.tail = new_node\n",
        "\n",
        "    def insert_before(self, next_node: Node, data):\n",
        "      if not next_node:\n",
        "       return\n",
        "      new_node = Node(data)\n",
        "      new_node.prev = next_node.prev\n",
        "      new_node.next = next_node\n",
        "      next_node.prev = new_node\n",
        "      if new_node.prev:\n",
        "        new_node.prev.next = new_node\n",
        "      else:\n",
        "        self.head = new_node\n",
        "\n",
        "\n",
        "  def insert_in_end(self, data):\n",
        "    new_node = Node(data)\n",
        "    new_node.prev = self.tail\n",
        "    if self.tail:\n",
        "      self.tail.next = new_node\n",
        "    else:\n",
        "      self.head = new_node\n",
        "    self.tail = new_node\n",
        "\n",
        "\n",
        "  def search(self, target_data):\n",
        "    current_node = self.head\n",
        "    while current_node:\n",
        "      if current_node.data == target_data:\n",
        "        return current_node\n",
        "      current_node = current_node.next\n",
        "    return None\n",
        "\n",
        "  def search_from_tail(self, target_data):\n",
        "    current_node = self.tail\n",
        "    while current_node:\n",
        "      if current_node.data == target_data:\n",
        "        return current_node\n",
        "      current_node = current_node.prev\n",
        "    return None\n",
        "\n",
        "  def remove(self, data):\n",
        "    current_node = self.head\n",
        "    while current_node:\n",
        "      if current_node.data == data:\n",
        "        if current_node.prev:\n",
        "          current_node.prev.next = current_node.next\n",
        "        else:\n",
        "          self.head = current_node.next\n",
        "        if current_node.next:\n",
        "          current_node.next.prev = current_node.prev\n",
        "        else:\n",
        "          self.tail = current_node.prev\n",
        "        current_node.next = None\n",
        "        current_node.prev = None\n",
        "        return True\n",
        "      current_node = current_node.next\n",
        "    return False\n",
        "\n",
        "\n",
        "  def print_list(self):\n",
        "    current = self.head\n",
        "    while current:\n",
        "      print(current.data, end=' <-> ')\n",
        "      current = current.next\n",
        "    print('')\n",
        "\n",
        "dll = DoublyLinkedList()\n",
        "\n",
        "dll.push(5)\n",
        "#dll.print_list()\n",
        "dll.push(14)\n",
        "#dll.print_list()\n",
        "dll.push(53)\n",
        "#dll.print_list()\n",
        "dll.push(21)\n",
        "#dll.print_list()\n",
        "\n",
        "dll.insert_in_end(10)\n",
        "#dll.print_list()\n",
        "dll.insert_in_end(20)\n",
        "dll.print_list()\n",
        "\n",
        "print(dll.remove(6))\n",
        "dll.print_list()\n",
        "print(dll.remove(53))\n",
        "dll.print_list()\n",
        "print(dll.search(10).data)\n",
        "print(dll.search_from_tail(5).data, '<<<search from tail')"
      ],
      "metadata": {
        "colab": {
          "base_uri": "https://localhost:8080/"
        },
        "id": "CU-poGiLpcwe",
        "outputId": "38851110-2d7f-45e0-b325-0e5aaa8b8ee7"
      },
      "execution_count": 30,
      "outputs": [
        {
          "output_type": "stream",
          "name": "stdout",
          "text": [
            "21 <-> 53 <-> 14 <-> 5 <-> 10 <-> 20 <-> \n",
            "False\n",
            "21 <-> 53 <-> 14 <-> 5 <-> 10 <-> 20 <-> \n",
            "True\n",
            "21 <-> 14 <-> 5 <-> 10 <-> 20 <-> \n",
            "10\n",
            "5 <<<search from tail\n"
          ]
        }
      ]
    }
  ]
}